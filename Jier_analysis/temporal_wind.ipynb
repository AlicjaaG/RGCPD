{
 "cells": [
  {
   "cell_type": "code",
   "execution_count": 1,
   "metadata": {},
   "outputs": [
    {
     "output_type": "error",
     "ename": "ModuleNotFoundError",
     "evalue": "No module named 'RGCPD'",
     "traceback": [
      "\u001b[0;31m---------------------------------------------------------------------------\u001b[0m",
      "\u001b[0;31mModuleNotFoundError\u001b[0m                       Traceback (most recent call last)",
      "\u001b[0;32m<ipython-input-1-916c42455ba6>\u001b[0m in \u001b[0;36m<module>\u001b[0;34m\u001b[0m\n\u001b[1;32m     22\u001b[0m \u001b[0;32mfrom\u001b[0m \u001b[0mpprint\u001b[0m \u001b[0;32mimport\u001b[0m \u001b[0mpprint\u001b[0m \u001b[0;32mas\u001b[0m \u001b[0mpp\u001b[0m\u001b[0;34m\u001b[0m\u001b[0;34m\u001b[0m\u001b[0m\n\u001b[1;32m     23\u001b[0m \u001b[0;32mfrom\u001b[0m \u001b[0mpandas\u001b[0m\u001b[0;34m.\u001b[0m\u001b[0mplotting\u001b[0m \u001b[0;32mimport\u001b[0m \u001b[0mregister_matplotlib_converters\u001b[0m\u001b[0;34m\u001b[0m\u001b[0;34m\u001b[0m\u001b[0m\n\u001b[0;32m---> 24\u001b[0;31m \u001b[0;32mfrom\u001b[0m \u001b[0mRGCPD\u001b[0m \u001b[0;32mimport\u001b[0m \u001b[0mRGCPD\u001b[0m\u001b[0;34m\u001b[0m\u001b[0;34m\u001b[0m\u001b[0m\n\u001b[0m\u001b[1;32m     25\u001b[0m \u001b[0;32mfrom\u001b[0m \u001b[0mRGCPD\u001b[0m \u001b[0;32mimport\u001b[0m \u001b[0mBivariateMI\u001b[0m\u001b[0;34m\u001b[0m\u001b[0;34m\u001b[0m\u001b[0m\n\u001b[1;32m     26\u001b[0m \u001b[0;32mimport\u001b[0m \u001b[0mcore_pp\u001b[0m\u001b[0;34m\u001b[0m\u001b[0;34m\u001b[0m\u001b[0m\n",
      "\u001b[0;31mModuleNotFoundError\u001b[0m: No module named 'RGCPD'"
     ]
    }
   ],
   "source": [
    "%matplotlib inline\n",
    "import os, sys, inspect, warnings\n",
    "curr_dir = os.path.dirname(os.path.abspath(inspect.getfile(inspect.currentframe()))) # script directory\n",
    "main_dir = '/'.join(curr_dir.split('/')[:-1])\n",
    "sub_dir = os.path.join(main_dir, 'RGCPD/')\n",
    "# core_pp = os.path.join(main_dir, 'RGCPD/core')\n",
    "if main_dir not in sys.path:\n",
    "    sys.path.append(main_dir)\n",
    "    sys.path.append(sub_dir)\n",
    "import numpy as np \n",
    "from collections import Counter\n",
    "# import statsmodels.api as sm \n",
    "import pandas as pd \n",
    "import math\n",
    "import matplotlib.pyplot as plt \n",
    "plt.rcParams['figure.figsize'] = (20.0, 10.0)\n",
    "import itertools as it\n",
    "import pywt as wv\n",
    "from scipy.fftpack import fft\n",
    "from copy import deepcopy\n",
    "# from statsmodels.tsa.arima_process import  arma_generate_sample, ArmaProcess\n",
    "from pprint import pprint as pp \n",
    "from pandas.plotting import register_matplotlib_converters\n",
    "from RGCPD import RGCPD\n",
    "from RGCPD import BivariateMI\n",
    "import core_pp\n",
    "import plot_signal_decomp\n",
    "import plot_coeffs\n",
    "from visualize_cwt import *\n",
    "register_matplotlib_converters()\n",
    "np.random.seed(12345)\n",
    "plt.style.use('seaborn')"
   ]
  },
  {
   "cell_type": "code",
   "execution_count": null,
   "metadata": {},
   "outputs": [],
   "source": [
    "path_data = os.path.join(main_dir, 'data')\n",
    "# temporal_data  = os.path.join(main_dir, 'data/Ftemporal')\n",
    "current_analysis_path = os.path.join(main_dir, 'Jier_analysis')\n",
    "target= 3\n",
    "target_path = os.path.join(path_data, 'tf5_nc5_dendo_80d77.nc')\n",
    "precursor_path = os.path.join(path_data,'z500hpa_1979-2018_1_12_daily_2.5deg.nc')\n",
    "list_of_name_path = [(target, target_path), \n",
    "                    ('wind', precursor_path )]\n",
    "list_for_MI = [BivariateMI(name='wind', func=BivariateMI.corr_map, \n",
    "                          kwrgs_func={'alpha':.0001, 'FDR_control':True}, \n",
    "                          distance_eps=700, min_area_in_degrees2=5)]\n",
    "rg = RGCPD(list_of_name_path=list_of_name_path,\n",
    "           list_for_MI=list_for_MI,\n",
    "           start_end_TVdate=('06-01', '08-31'),\n",
    "           path_outmain=os.path.join(main_dir,'data'))"
   ]
  },
  {
   "cell_type": "code",
   "execution_count": null,
   "metadata": {},
   "outputs": [],
   "source": [
    "rg.pp_precursors(detrend=True, anomaly=True, selbox=None)\n",
    "rg.pp_TV()\n",
    "rg.traintest(method='no_train_test_split')\n",
    "rg.calc_corr_maps()\n",
    "rg.cluster_list_MI()\n",
    "rg.get_ts_prec(precur_aggr=1)"
   ]
  },
  {
   "cell_type": "code",
   "execution_count": null,
   "metadata": {},
   "outputs": [],
   "source": [
    "rg.dates_TV"
   ]
  },
  {
   "cell_type": "code",
   "execution_count": null,
   "metadata": {},
   "outputs": [],
   "source": [
    "rg.PCMCI_df_data()\n",
    "rg.PCMCI_get_links()\n",
    "rg.df_MCIc\n",
    "rg.PCMCI_plot_graph()"
   ]
  },
  {
   "cell_type": "code",
   "execution_count": null,
   "metadata": {},
   "outputs": [],
   "source": [
    "rg_data  = rg.df_data[['3ts', '0..1..sm', '0..2..sm']]\n",
    "rg_data = rg_data.rename(columns={'0..1..sm':'prec1', '0..2..sm':'prec2'})\n",
    "rg_index = rg_data.index.levels[1]\n",
    "prec1 = rg_data['prec1'].values\n",
    "prec2 = rg_data['prec2'].values\n",
    "target = rg_data['3ts'].values\n",
    "wave  = wv.Wavelet('db4')\n",
    "mode=wv.Modes.periodic"
   ]
  },
  {
   "cell_type": "code",
   "execution_count": null,
   "metadata": {},
   "outputs": [],
   "source": [
    "plt.figure(figsize=(19,8), dpi=120)\n",
    "plt.plot(rg_index, prec1)\n",
    "plt.show()"
   ]
  },
  {
   "cell_type": "code",
   "execution_count": null,
   "metadata": {},
   "outputs": [],
   "source": [
    "plt.figure(figsize=(19,8), dpi=120)\n",
    "plt.plot(rg_index, prec2)\n",
    "plt.show()"
   ]
  },
  {
   "cell_type": "code",
   "execution_count": null,
   "metadata": {},
   "outputs": [],
   "source": [
    "fig, ax = plt.subplots(wv.dwt_max_level(len(prec1), wave.dec_len), 2, figsize=(19, 8))\n",
    "fig.suptitle('Using Discrete Wavelet transform', fontsize=14)\n",
    "ap = rg_data['prec1'].values\n",
    "for i in range(wv.dwt_max_level(len(prec1), wave.dec_len)):\n",
    "   ap, det =  wv.dwt(ap, 'db4')\n",
    "   ax[i, 0].plot(ap, 'r')\n",
    "   ax[i, 1].plot(det, 'g')\n",
    "   ax[i, 0].set_ylabel('Level {}'.format(i + 1), fontsize=9, rotation=90)\n",
    "   if i == 0:\n",
    "        ax[i, 0].set_title('Approximation coeffs', fontsize=14)\n",
    "        ax[i, 1].set_title('Details coeffs', fontsize=14)\n",
    "plt.tight_layout()\n",
    "plt.show()"
   ]
  },
  {
   "cell_type": "code",
   "execution_count": null,
   "metadata": {},
   "outputs": [],
   "source": [
    "fig, ax = plt.subplots(wv.dwt_max_level(len(prec2), wave.dec_len), 2, figsize=(19, 8))\n",
    "fig.suptitle('Using Discrete Wavelet transform', fontsize=14)\n",
    "ap = rg_data['prec2'].values\n",
    "for i in range(wv.dwt_max_level(len(prec2), wave.dec_len)):\n",
    "   ap, det =  wv.dwt(ap, 'db4')\n",
    "   ax[i, 0].plot(ap, 'r')\n",
    "   ax[i, 1].plot(det, 'g')\n",
    "   ax[i, 0].set_ylabel('Level {}'.format(i + 1), fontsize=9, rotation=90)\n",
    "   if i == 0:\n",
    "        ax[i, 0].set_title('Approximation coeffs', fontsize=14)\n",
    "        ax[i, 1].set_title('Details coeffs', fontsize=14)\n",
    "plt.tight_layout()\n",
    "plt.show()"
   ]
  }
 ],
 "metadata": {
  "language_info": {
   "codemirror_mode": {
    "name": "ipython",
    "version": 3
   },
   "file_extension": ".py",
   "mimetype": "text/x-python",
   "name": "python",
   "nbconvert_exporter": "python",
   "pygments_lexer": "ipython3",
   "version": 3
  },
  "orig_nbformat": 2,
  "kernelspec": {
   "name": "python_defaultSpec_1594976285326",
   "display_name": "Python 3.7.3 64-bit ('RGCPD': conda)"
  }
 },
 "nbformat": 4,
 "nbformat_minor": 2
}