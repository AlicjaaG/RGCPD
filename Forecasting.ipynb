{
 "cells": [
  {
   "cell_type": "markdown",
   "metadata": {},
   "source": [
    "# Forecasting\n",
    "Below done with test data, same format as df_data"
   ]
  },
  {
   "cell_type": "code",
   "execution_count": 1,
   "metadata": {},
   "outputs": [],
   "source": [
    "%load_ext autoreload\n",
    "%autoreload 2\n",
    "import os, inspect, sys\n",
    "curr_dir = os.path.dirname(os.path.abspath(inspect.getfile(inspect.currentframe()))) # script directory\n",
    "python_dir = os.path.join(curr_dir, 'RGCPD/')\n",
    "if python_dir not in sys.path:\n",
    "    sys.path.append(python_dir)\n",
    "from func_fc import fcev "
   ]
  },
  {
   "cell_type": "code",
   "execution_count": 2,
   "metadata": {},
   "outputs": [
    {
     "data": {
      "text/html": [
       "<div>\n",
       "<style scoped>\n",
       "    .dataframe tbody tr th:only-of-type {\n",
       "        vertical-align: middle;\n",
       "    }\n",
       "\n",
       "    .dataframe tbody tr th {\n",
       "        vertical-align: top;\n",
       "    }\n",
       "\n",
       "    .dataframe thead th {\n",
       "        text-align: right;\n",
       "    }\n",
       "</style>\n",
       "<table border=\"1\" class=\"dataframe\">\n",
       "  <thead>\n",
       "    <tr style=\"text-align: right;\">\n",
       "      <th></th>\n",
       "      <th></th>\n",
       "      <th>t2mmax_E-US</th>\n",
       "      <th>10_1_sst</th>\n",
       "      <th>10_2_sst</th>\n",
       "      <th>10_3_sst</th>\n",
       "      <th>10_4_sst</th>\n",
       "      <th>10_5_sst</th>\n",
       "      <th>10_6_sst</th>\n",
       "      <th>10_7_sst</th>\n",
       "      <th>10_8_sst</th>\n",
       "      <th>10_9_sst</th>\n",
       "      <th>...</th>\n",
       "      <th>10_33_sst</th>\n",
       "      <th>10_1_sm123</th>\n",
       "      <th>10_2_sm123</th>\n",
       "      <th>10_3_sm123</th>\n",
       "      <th>10_4_sm123</th>\n",
       "      <th>10_1_z500hpa</th>\n",
       "      <th>10_2_z500hpa</th>\n",
       "      <th>10_4_z500hpa</th>\n",
       "      <th>TrainIsTrue</th>\n",
       "      <th>RV_mask</th>\n",
       "    </tr>\n",
       "  </thead>\n",
       "  <tbody>\n",
       "    <tr>\n",
       "      <td rowspan=\"5\" valign=\"top\">0</td>\n",
       "      <td>1979-01-09</td>\n",
       "      <td>1.209692</td>\n",
       "      <td>-0.002358</td>\n",
       "      <td>-0.640111</td>\n",
       "      <td>0.196276</td>\n",
       "      <td>0.057467</td>\n",
       "      <td>0.237060</td>\n",
       "      <td>-0.000282</td>\n",
       "      <td>0.242272</td>\n",
       "      <td>-0.000078</td>\n",
       "      <td>0.213448</td>\n",
       "      <td>...</td>\n",
       "      <td>-0.000086</td>\n",
       "      <td>-0.006955</td>\n",
       "      <td>0.039964</td>\n",
       "      <td>-0.012784</td>\n",
       "      <td>0.021248</td>\n",
       "      <td>-703.676793</td>\n",
       "      <td>-886.437462</td>\n",
       "      <td>262.686430</td>\n",
       "      <td>True</td>\n",
       "      <td>False</td>\n",
       "    </tr>\n",
       "    <tr>\n",
       "      <td>1979-01-19</td>\n",
       "      <td>4.785123</td>\n",
       "      <td>-0.110194</td>\n",
       "      <td>-0.953155</td>\n",
       "      <td>0.366249</td>\n",
       "      <td>0.707406</td>\n",
       "      <td>0.108859</td>\n",
       "      <td>-0.000010</td>\n",
       "      <td>-0.063588</td>\n",
       "      <td>-0.000032</td>\n",
       "      <td>-0.084638</td>\n",
       "      <td>...</td>\n",
       "      <td>-0.000035</td>\n",
       "      <td>0.020658</td>\n",
       "      <td>0.030602</td>\n",
       "      <td>-0.010177</td>\n",
       "      <td>0.009940</td>\n",
       "      <td>-240.052874</td>\n",
       "      <td>1704.986875</td>\n",
       "      <td>-111.029630</td>\n",
       "      <td>True</td>\n",
       "      <td>False</td>\n",
       "    </tr>\n",
       "    <tr>\n",
       "      <td>1979-01-29</td>\n",
       "      <td>2.851309</td>\n",
       "      <td>0.236436</td>\n",
       "      <td>-0.972786</td>\n",
       "      <td>0.292984</td>\n",
       "      <td>0.368679</td>\n",
       "      <td>0.432925</td>\n",
       "      <td>-0.000034</td>\n",
       "      <td>-0.070227</td>\n",
       "      <td>-0.000016</td>\n",
       "      <td>-0.022379</td>\n",
       "      <td>...</td>\n",
       "      <td>-0.000017</td>\n",
       "      <td>0.013061</td>\n",
       "      <td>-0.014665</td>\n",
       "      <td>-0.016978</td>\n",
       "      <td>0.017121</td>\n",
       "      <td>-603.139468</td>\n",
       "      <td>1485.975214</td>\n",
       "      <td>-574.192998</td>\n",
       "      <td>True</td>\n",
       "      <td>False</td>\n",
       "    </tr>\n",
       "    <tr>\n",
       "      <td>1979-02-08</td>\n",
       "      <td>-0.657271</td>\n",
       "      <td>0.345124</td>\n",
       "      <td>-1.770945</td>\n",
       "      <td>0.197799</td>\n",
       "      <td>0.429169</td>\n",
       "      <td>0.283745</td>\n",
       "      <td>-0.000039</td>\n",
       "      <td>-0.262285</td>\n",
       "      <td>-0.000018</td>\n",
       "      <td>0.430139</td>\n",
       "      <td>...</td>\n",
       "      <td>-0.000019</td>\n",
       "      <td>0.005370</td>\n",
       "      <td>-0.023987</td>\n",
       "      <td>-0.003841</td>\n",
       "      <td>-0.018779</td>\n",
       "      <td>-661.228052</td>\n",
       "      <td>897.245203</td>\n",
       "      <td>-239.124416</td>\n",
       "      <td>True</td>\n",
       "      <td>False</td>\n",
       "    </tr>\n",
       "    <tr>\n",
       "      <td>1979-02-18</td>\n",
       "      <td>2.791270</td>\n",
       "      <td>0.276122</td>\n",
       "      <td>-1.863202</td>\n",
       "      <td>0.203110</td>\n",
       "      <td>1.323097</td>\n",
       "      <td>0.274132</td>\n",
       "      <td>-0.000032</td>\n",
       "      <td>-0.339325</td>\n",
       "      <td>-0.000015</td>\n",
       "      <td>0.570800</td>\n",
       "      <td>...</td>\n",
       "      <td>-0.000014</td>\n",
       "      <td>0.015524</td>\n",
       "      <td>-0.039493</td>\n",
       "      <td>0.000017</td>\n",
       "      <td>-0.037149</td>\n",
       "      <td>408.557069</td>\n",
       "      <td>1047.023454</td>\n",
       "      <td>-1024.174593</td>\n",
       "      <td>True</td>\n",
       "      <td>False</td>\n",
       "    </tr>\n",
       "    <tr>\n",
       "      <td>...</td>\n",
       "      <td>...</td>\n",
       "      <td>...</td>\n",
       "      <td>...</td>\n",
       "      <td>...</td>\n",
       "      <td>...</td>\n",
       "      <td>...</td>\n",
       "      <td>...</td>\n",
       "      <td>...</td>\n",
       "      <td>...</td>\n",
       "      <td>...</td>\n",
       "      <td>...</td>\n",
       "      <td>...</td>\n",
       "      <td>...</td>\n",
       "      <td>...</td>\n",
       "      <td>...</td>\n",
       "      <td>...</td>\n",
       "      <td>...</td>\n",
       "      <td>...</td>\n",
       "      <td>...</td>\n",
       "      <td>...</td>\n",
       "      <td>...</td>\n",
       "      <td>...</td>\n",
       "    </tr>\n",
       "    <tr>\n",
       "      <td rowspan=\"5\" valign=\"top\">9</td>\n",
       "      <td>2018-07-18</td>\n",
       "      <td>3.968986</td>\n",
       "      <td>-0.675813</td>\n",
       "      <td>-2.469675</td>\n",
       "      <td>-0.422750</td>\n",
       "      <td>-1.308344</td>\n",
       "      <td>-0.417246</td>\n",
       "      <td>-1.376140</td>\n",
       "      <td>-0.037969</td>\n",
       "      <td>0.126485</td>\n",
       "      <td>0.106602</td>\n",
       "      <td>...</td>\n",
       "      <td>0.375511</td>\n",
       "      <td>-0.011010</td>\n",
       "      <td>-0.021522</td>\n",
       "      <td>-0.021667</td>\n",
       "      <td>-0.050003</td>\n",
       "      <td>169.678493</td>\n",
       "      <td>-149.298995</td>\n",
       "      <td>397.275655</td>\n",
       "      <td>False</td>\n",
       "      <td>True</td>\n",
       "    </tr>\n",
       "    <tr>\n",
       "      <td>2018-07-28</td>\n",
       "      <td>2.238003</td>\n",
       "      <td>-0.648225</td>\n",
       "      <td>-2.448345</td>\n",
       "      <td>-0.600959</td>\n",
       "      <td>-1.374351</td>\n",
       "      <td>-0.582658</td>\n",
       "      <td>-0.952557</td>\n",
       "      <td>0.053456</td>\n",
       "      <td>0.262430</td>\n",
       "      <td>0.204259</td>\n",
       "      <td>...</td>\n",
       "      <td>0.097509</td>\n",
       "      <td>0.016049</td>\n",
       "      <td>-0.013829</td>\n",
       "      <td>-0.030041</td>\n",
       "      <td>-0.004447</td>\n",
       "      <td>-266.045735</td>\n",
       "      <td>-72.397720</td>\n",
       "      <td>651.056435</td>\n",
       "      <td>False</td>\n",
       "      <td>True</td>\n",
       "    </tr>\n",
       "    <tr>\n",
       "      <td>2018-08-07</td>\n",
       "      <td>3.732656</td>\n",
       "      <td>-0.765411</td>\n",
       "      <td>-1.932817</td>\n",
       "      <td>-0.432728</td>\n",
       "      <td>-1.317764</td>\n",
       "      <td>-0.976963</td>\n",
       "      <td>-0.837603</td>\n",
       "      <td>0.085470</td>\n",
       "      <td>0.533442</td>\n",
       "      <td>0.374150</td>\n",
       "      <td>...</td>\n",
       "      <td>-0.099843</td>\n",
       "      <td>0.008921</td>\n",
       "      <td>0.023220</td>\n",
       "      <td>-0.022932</td>\n",
       "      <td>-0.006482</td>\n",
       "      <td>86.333530</td>\n",
       "      <td>70.394108</td>\n",
       "      <td>122.711885</td>\n",
       "      <td>False</td>\n",
       "      <td>True</td>\n",
       "    </tr>\n",
       "    <tr>\n",
       "      <td>2018-08-17</td>\n",
       "      <td>2.904398</td>\n",
       "      <td>-0.574298</td>\n",
       "      <td>-0.502468</td>\n",
       "      <td>-0.736948</td>\n",
       "      <td>-1.110559</td>\n",
       "      <td>-0.512167</td>\n",
       "      <td>-0.759573</td>\n",
       "      <td>0.205525</td>\n",
       "      <td>0.772225</td>\n",
       "      <td>-0.327085</td>\n",
       "      <td>...</td>\n",
       "      <td>-0.090738</td>\n",
       "      <td>0.052523</td>\n",
       "      <td>0.024209</td>\n",
       "      <td>-0.008351</td>\n",
       "      <td>-0.018666</td>\n",
       "      <td>197.684934</td>\n",
       "      <td>-192.055925</td>\n",
       "      <td>597.124587</td>\n",
       "      <td>False</td>\n",
       "      <td>True</td>\n",
       "    </tr>\n",
       "    <tr>\n",
       "      <td>2018-08-27</td>\n",
       "      <td>3.712742</td>\n",
       "      <td>-0.559711</td>\n",
       "      <td>-1.473981</td>\n",
       "      <td>-0.748247</td>\n",
       "      <td>-1.182788</td>\n",
       "      <td>-0.319890</td>\n",
       "      <td>-1.540097</td>\n",
       "      <td>0.090336</td>\n",
       "      <td>0.748587</td>\n",
       "      <td>0.022415</td>\n",
       "      <td>...</td>\n",
       "      <td>0.125006</td>\n",
       "      <td>0.031301</td>\n",
       "      <td>0.008460</td>\n",
       "      <td>-0.000084</td>\n",
       "      <td>-0.004940</td>\n",
       "      <td>-32.060882</td>\n",
       "      <td>402.715647</td>\n",
       "      <td>84.887218</td>\n",
       "      <td>False</td>\n",
       "      <td>True</td>\n",
       "    </tr>\n",
       "  </tbody>\n",
       "</table>\n",
       "<p>9600 rows × 35 columns</p>\n",
       "</div>"
      ],
      "text/plain": [
       "              t2mmax_E-US  10_1_sst  10_2_sst  10_3_sst  10_4_sst  10_5_sst  \\\n",
       "0 1979-01-09     1.209692 -0.002358 -0.640111  0.196276  0.057467  0.237060   \n",
       "  1979-01-19     4.785123 -0.110194 -0.953155  0.366249  0.707406  0.108859   \n",
       "  1979-01-29     2.851309  0.236436 -0.972786  0.292984  0.368679  0.432925   \n",
       "  1979-02-08    -0.657271  0.345124 -1.770945  0.197799  0.429169  0.283745   \n",
       "  1979-02-18     2.791270  0.276122 -1.863202  0.203110  1.323097  0.274132   \n",
       "...                   ...       ...       ...       ...       ...       ...   \n",
       "9 2018-07-18     3.968986 -0.675813 -2.469675 -0.422750 -1.308344 -0.417246   \n",
       "  2018-07-28     2.238003 -0.648225 -2.448345 -0.600959 -1.374351 -0.582658   \n",
       "  2018-08-07     3.732656 -0.765411 -1.932817 -0.432728 -1.317764 -0.976963   \n",
       "  2018-08-17     2.904398 -0.574298 -0.502468 -0.736948 -1.110559 -0.512167   \n",
       "  2018-08-27     3.712742 -0.559711 -1.473981 -0.748247 -1.182788 -0.319890   \n",
       "\n",
       "              10_6_sst  10_7_sst  10_8_sst  10_9_sst  ...  10_33_sst  \\\n",
       "0 1979-01-09 -0.000282  0.242272 -0.000078  0.213448  ...  -0.000086   \n",
       "  1979-01-19 -0.000010 -0.063588 -0.000032 -0.084638  ...  -0.000035   \n",
       "  1979-01-29 -0.000034 -0.070227 -0.000016 -0.022379  ...  -0.000017   \n",
       "  1979-02-08 -0.000039 -0.262285 -0.000018  0.430139  ...  -0.000019   \n",
       "  1979-02-18 -0.000032 -0.339325 -0.000015  0.570800  ...  -0.000014   \n",
       "...                ...       ...       ...       ...  ...        ...   \n",
       "9 2018-07-18 -1.376140 -0.037969  0.126485  0.106602  ...   0.375511   \n",
       "  2018-07-28 -0.952557  0.053456  0.262430  0.204259  ...   0.097509   \n",
       "  2018-08-07 -0.837603  0.085470  0.533442  0.374150  ...  -0.099843   \n",
       "  2018-08-17 -0.759573  0.205525  0.772225 -0.327085  ...  -0.090738   \n",
       "  2018-08-27 -1.540097  0.090336  0.748587  0.022415  ...   0.125006   \n",
       "\n",
       "              10_1_sm123  10_2_sm123  10_3_sm123  10_4_sm123  10_1_z500hpa  \\\n",
       "0 1979-01-09   -0.006955    0.039964   -0.012784    0.021248   -703.676793   \n",
       "  1979-01-19    0.020658    0.030602   -0.010177    0.009940   -240.052874   \n",
       "  1979-01-29    0.013061   -0.014665   -0.016978    0.017121   -603.139468   \n",
       "  1979-02-08    0.005370   -0.023987   -0.003841   -0.018779   -661.228052   \n",
       "  1979-02-18    0.015524   -0.039493    0.000017   -0.037149    408.557069   \n",
       "...                  ...         ...         ...         ...           ...   \n",
       "9 2018-07-18   -0.011010   -0.021522   -0.021667   -0.050003    169.678493   \n",
       "  2018-07-28    0.016049   -0.013829   -0.030041   -0.004447   -266.045735   \n",
       "  2018-08-07    0.008921    0.023220   -0.022932   -0.006482     86.333530   \n",
       "  2018-08-17    0.052523    0.024209   -0.008351   -0.018666    197.684934   \n",
       "  2018-08-27    0.031301    0.008460   -0.000084   -0.004940    -32.060882   \n",
       "\n",
       "              10_2_z500hpa  10_4_z500hpa  TrainIsTrue  RV_mask  \n",
       "0 1979-01-09   -886.437462    262.686430         True    False  \n",
       "  1979-01-19   1704.986875   -111.029630         True    False  \n",
       "  1979-01-29   1485.975214   -574.192998         True    False  \n",
       "  1979-02-08    897.245203   -239.124416         True    False  \n",
       "  1979-02-18   1047.023454  -1024.174593         True    False  \n",
       "...                    ...           ...          ...      ...  \n",
       "9 2018-07-18   -149.298995    397.275655        False     True  \n",
       "  2018-07-28    -72.397720    651.056435        False     True  \n",
       "  2018-08-07     70.394108    122.711885        False     True  \n",
       "  2018-08-17   -192.055925    597.124587        False     True  \n",
       "  2018-08-27    402.715647     84.887218        False     True  \n",
       "\n",
       "[9600 rows x 35 columns]"
      ]
     },
     "execution_count": 2,
     "metadata": {},
     "output_type": "execute_result"
    }
   ],
   "source": [
    "fc = fcev.get_test_data()\n",
    "fc.df_data"
   ]
  },
  {
   "cell_type": "markdown",
   "metadata": {},
   "source": [
    "Define statmodel:"
   ]
  },
  {
   "cell_type": "code",
   "execution_count": 14,
   "metadata": {},
   "outputs": [],
   "source": [
    "kwrgs_pp ={'EOF':False, \n",
    "            'expl_var':0.5,\n",
    "            'fit_model_dates' : None,\n",
    "            'remove_RV' : False,\n",
    "            'normalize':'datesRV'}\n",
    "fc.get_TV(kwrgs_events=None, kwrgs_pp=kwrgs_pp)\n",
    "logit = ('logit', None)\n",
    "\n",
    "GBR_logitCV = ('GBR-logitCV', \n",
    "              {'max_depth':3,\n",
    "               'learning_rate':1E-3,\n",
    "               'n_estimators' : 750,\n",
    "               'max_features':'sqrt',\n",
    "               'subsample' : 0.6,\n",
    "               'random_state':60} )  \n",
    "\n",
    "logitCV = ('logit-CV', { 'class_weight':{ 0:1, 1:1},\n",
    "                'scoring':'brier_score_loss',\n",
    "                'penalty':'l2',\n",
    "                'solver':'lbfgs'})"
   ]
  },
  {
   "cell_type": "code",
   "execution_count": 15,
   "metadata": {},
   "outputs": [
    {
     "name": "stdout",
     "output_type": "stream",
     "text": [
      "getting keys associated with name sst(CPPA)+sm\n",
      "tfreq: 10, max lag: 4, i.e. 35 days\n",
      "Progress 2%"
     ]
    },
    {
     "name": "stderr",
     "output_type": "stream",
     "text": [
      "/Users/semvijverberg/miniconda3/envs/df_ana/lib/python3.7/site-packages/numpy/core/fromnumeric.py:2495: FutureWarning: Method .ptp is deprecated and will be removed in a future version. Use numpy.ptp instead.\n",
      "  return ptp(axis=axis, out=out, **kwargs)\n",
      "/Users/semvijverberg/miniconda3/envs/df_ana/lib/python3.7/site-packages/numpy/core/fromnumeric.py:2495: FutureWarning: Method .ptp is deprecated and will be removed in a future version. Use numpy.ptp instead.\n",
      "  return ptp(axis=axis, out=out, **kwargs)\n"
     ]
    },
    {
     "name": "stdout",
     "output_type": "stream",
     "text": [
      "Progress 4%"
     ]
    },
    {
     "name": "stderr",
     "output_type": "stream",
     "text": [
      "/Users/semvijverberg/miniconda3/envs/df_ana/lib/python3.7/site-packages/numpy/core/fromnumeric.py:2495: FutureWarning: Method .ptp is deprecated and will be removed in a future version. Use numpy.ptp instead.\n",
      "  return ptp(axis=axis, out=out, **kwargs)\n",
      "/Users/semvijverberg/miniconda3/envs/df_ana/lib/python3.7/site-packages/numpy/core/fromnumeric.py:2495: FutureWarning: Method .ptp is deprecated and will be removed in a future version. Use numpy.ptp instead.\n",
      "  return ptp(axis=axis, out=out, **kwargs)\n",
      "/Users/semvijverberg/miniconda3/envs/df_ana/lib/python3.7/site-packages/numpy/core/fromnumeric.py:2495: FutureWarning: Method .ptp is deprecated and will be removed in a future version. Use numpy.ptp instead.\n",
      "  return ptp(axis=axis, out=out, **kwargs)\n"
     ]
    },
    {
     "name": "stdout",
     "output_type": "stream",
     "text": [
      "Progress 6%"
     ]
    },
    {
     "name": "stderr",
     "output_type": "stream",
     "text": [
      "/Users/semvijverberg/miniconda3/envs/df_ana/lib/python3.7/site-packages/numpy/core/fromnumeric.py:2495: FutureWarning: Method .ptp is deprecated and will be removed in a future version. Use numpy.ptp instead.\n",
      "  return ptp(axis=axis, out=out, **kwargs)\n",
      "/Users/semvijverberg/miniconda3/envs/df_ana/lib/python3.7/site-packages/numpy/core/fromnumeric.py:2495: FutureWarning: Method .ptp is deprecated and will be removed in a future version. Use numpy.ptp instead.\n",
      "  return ptp(axis=axis, out=out, **kwargs)\n"
     ]
    },
    {
     "name": "stdout",
     "output_type": "stream",
     "text": [
      "Progress 8%"
     ]
    },
    {
     "name": "stderr",
     "output_type": "stream",
     "text": [
      "/Users/semvijverberg/miniconda3/envs/df_ana/lib/python3.7/site-packages/numpy/core/fromnumeric.py:2495: FutureWarning: Method .ptp is deprecated and will be removed in a future version. Use numpy.ptp instead.\n",
      "  return ptp(axis=axis, out=out, **kwargs)\n",
      "/Users/semvijverberg/miniconda3/envs/df_ana/lib/python3.7/site-packages/numpy/core/fromnumeric.py:2495: FutureWarning: Method .ptp is deprecated and will be removed in a future version. Use numpy.ptp instead.\n",
      "  return ptp(axis=axis, out=out, **kwargs)\n"
     ]
    },
    {
     "name": "stdout",
     "output_type": "stream",
     "text": [
      "Progress 10%"
     ]
    },
    {
     "name": "stderr",
     "output_type": "stream",
     "text": [
      "/Users/semvijverberg/miniconda3/envs/df_ana/lib/python3.7/site-packages/numpy/core/fromnumeric.py:2495: FutureWarning: Method .ptp is deprecated and will be removed in a future version. Use numpy.ptp instead.\n",
      "  return ptp(axis=axis, out=out, **kwargs)\n",
      "/Users/semvijverberg/miniconda3/envs/df_ana/lib/python3.7/site-packages/numpy/core/fromnumeric.py:2495: FutureWarning: Method .ptp is deprecated and will be removed in a future version. Use numpy.ptp instead.\n",
      "  return ptp(axis=axis, out=out, **kwargs)\n"
     ]
    },
    {
     "name": "stdout",
     "output_type": "stream",
     "text": [
      "Progress 12%"
     ]
    },
    {
     "name": "stderr",
     "output_type": "stream",
     "text": [
      "/Users/semvijverberg/miniconda3/envs/df_ana/lib/python3.7/site-packages/numpy/core/fromnumeric.py:2495: FutureWarning: Method .ptp is deprecated and will be removed in a future version. Use numpy.ptp instead.\n",
      "  return ptp(axis=axis, out=out, **kwargs)\n",
      "/Users/semvijverberg/miniconda3/envs/df_ana/lib/python3.7/site-packages/numpy/core/fromnumeric.py:2495: FutureWarning: Method .ptp is deprecated and will be removed in a future version. Use numpy.ptp instead.\n",
      "  return ptp(axis=axis, out=out, **kwargs)\n"
     ]
    },
    {
     "name": "stdout",
     "output_type": "stream",
     "text": [
      "Progress 14%"
     ]
    },
    {
     "name": "stderr",
     "output_type": "stream",
     "text": [
      "/Users/semvijverberg/miniconda3/envs/df_ana/lib/python3.7/site-packages/numpy/core/fromnumeric.py:2495: FutureWarning: Method .ptp is deprecated and will be removed in a future version. Use numpy.ptp instead.\n",
      "  return ptp(axis=axis, out=out, **kwargs)\n",
      "/Users/semvijverberg/miniconda3/envs/df_ana/lib/python3.7/site-packages/numpy/core/fromnumeric.py:2495: FutureWarning: Method .ptp is deprecated and will be removed in a future version. Use numpy.ptp instead.\n",
      "  return ptp(axis=axis, out=out, **kwargs)\n"
     ]
    },
    {
     "name": "stdout",
     "output_type": "stream",
     "text": [
      "Progress 16%"
     ]
    },
    {
     "name": "stderr",
     "output_type": "stream",
     "text": [
      "/Users/semvijverberg/miniconda3/envs/df_ana/lib/python3.7/site-packages/numpy/core/fromnumeric.py:2495: FutureWarning: Method .ptp is deprecated and will be removed in a future version. Use numpy.ptp instead.\n",
      "  return ptp(axis=axis, out=out, **kwargs)\n",
      "/Users/semvijverberg/miniconda3/envs/df_ana/lib/python3.7/site-packages/numpy/core/fromnumeric.py:2495: FutureWarning: Method .ptp is deprecated and will be removed in a future version. Use numpy.ptp instead.\n",
      "  return ptp(axis=axis, out=out, **kwargs)\n"
     ]
    },
    {
     "name": "stdout",
     "output_type": "stream",
     "text": [
      "Progress 18%"
     ]
    },
    {
     "name": "stderr",
     "output_type": "stream",
     "text": [
      "/Users/semvijverberg/miniconda3/envs/df_ana/lib/python3.7/site-packages/numpy/core/fromnumeric.py:2495: FutureWarning: Method .ptp is deprecated and will be removed in a future version. Use numpy.ptp instead.\n",
      "  return ptp(axis=axis, out=out, **kwargs)\n",
      "/Users/semvijverberg/miniconda3/envs/df_ana/lib/python3.7/site-packages/numpy/core/fromnumeric.py:2495: FutureWarning: Method .ptp is deprecated and will be removed in a future version. Use numpy.ptp instead.\n",
      "  return ptp(axis=axis, out=out, **kwargs)\n"
     ]
    },
    {
     "name": "stdout",
     "output_type": "stream",
     "text": [
      "Progress 20%"
     ]
    },
    {
     "name": "stderr",
     "output_type": "stream",
     "text": [
      "/Users/semvijverberg/miniconda3/envs/df_ana/lib/python3.7/site-packages/numpy/core/fromnumeric.py:2495: FutureWarning: Method .ptp is deprecated and will be removed in a future version. Use numpy.ptp instead.\n",
      "  return ptp(axis=axis, out=out, **kwargs)\n",
      "/Users/semvijverberg/miniconda3/envs/df_ana/lib/python3.7/site-packages/numpy/core/fromnumeric.py:2495: FutureWarning: Method .ptp is deprecated and will be removed in a future version. Use numpy.ptp instead.\n",
      "  return ptp(axis=axis, out=out, **kwargs)\n"
     ]
    },
    {
     "name": "stdout",
     "output_type": "stream",
     "text": [
      "Progress 22%"
     ]
    },
    {
     "name": "stderr",
     "output_type": "stream",
     "text": [
      "/Users/semvijverberg/miniconda3/envs/df_ana/lib/python3.7/site-packages/numpy/core/fromnumeric.py:2495: FutureWarning: Method .ptp is deprecated and will be removed in a future version. Use numpy.ptp instead.\n",
      "  return ptp(axis=axis, out=out, **kwargs)\n",
      "/Users/semvijverberg/miniconda3/envs/df_ana/lib/python3.7/site-packages/numpy/core/fromnumeric.py:2495: FutureWarning: Method .ptp is deprecated and will be removed in a future version. Use numpy.ptp instead.\n",
      "  return ptp(axis=axis, out=out, **kwargs)\n"
     ]
    },
    {
     "name": "stdout",
     "output_type": "stream",
     "text": [
      "Progress 24%"
     ]
    },
    {
     "name": "stderr",
     "output_type": "stream",
     "text": [
      "/Users/semvijverberg/miniconda3/envs/df_ana/lib/python3.7/site-packages/numpy/core/fromnumeric.py:2495: FutureWarning: Method .ptp is deprecated and will be removed in a future version. Use numpy.ptp instead.\n",
      "  return ptp(axis=axis, out=out, **kwargs)\n",
      "/Users/semvijverberg/miniconda3/envs/df_ana/lib/python3.7/site-packages/numpy/core/fromnumeric.py:2495: FutureWarning: Method .ptp is deprecated and will be removed in a future version. Use numpy.ptp instead.\n",
      "  return ptp(axis=axis, out=out, **kwargs)\n"
     ]
    },
    {
     "name": "stdout",
     "output_type": "stream",
     "text": [
      "Progress 26%"
     ]
    },
    {
     "name": "stderr",
     "output_type": "stream",
     "text": [
      "/Users/semvijverberg/miniconda3/envs/df_ana/lib/python3.7/site-packages/numpy/core/fromnumeric.py:2495: FutureWarning: Method .ptp is deprecated and will be removed in a future version. Use numpy.ptp instead.\n",
      "  return ptp(axis=axis, out=out, **kwargs)\n",
      "/Users/semvijverberg/miniconda3/envs/df_ana/lib/python3.7/site-packages/numpy/core/fromnumeric.py:2495: FutureWarning: Method .ptp is deprecated and will be removed in a future version. Use numpy.ptp instead.\n",
      "  return ptp(axis=axis, out=out, **kwargs)\n"
     ]
    },
    {
     "name": "stdout",
     "output_type": "stream",
     "text": [
      "Progress 28%"
     ]
    },
    {
     "name": "stderr",
     "output_type": "stream",
     "text": [
      "/Users/semvijverberg/miniconda3/envs/df_ana/lib/python3.7/site-packages/numpy/core/fromnumeric.py:2495: FutureWarning: Method .ptp is deprecated and will be removed in a future version. Use numpy.ptp instead.\n",
      "  return ptp(axis=axis, out=out, **kwargs)\n",
      "/Users/semvijverberg/miniconda3/envs/df_ana/lib/python3.7/site-packages/numpy/core/fromnumeric.py:2495: FutureWarning: Method .ptp is deprecated and will be removed in a future version. Use numpy.ptp instead.\n",
      "  return ptp(axis=axis, out=out, **kwargs)\n"
     ]
    },
    {
     "name": "stdout",
     "output_type": "stream",
     "text": [
      "Progress 30%"
     ]
    },
    {
     "name": "stderr",
     "output_type": "stream",
     "text": [
      "/Users/semvijverberg/miniconda3/envs/df_ana/lib/python3.7/site-packages/numpy/core/fromnumeric.py:2495: FutureWarning: Method .ptp is deprecated and will be removed in a future version. Use numpy.ptp instead.\n",
      "  return ptp(axis=axis, out=out, **kwargs)\n",
      "/Users/semvijverberg/miniconda3/envs/df_ana/lib/python3.7/site-packages/numpy/core/fromnumeric.py:2495: FutureWarning: Method .ptp is deprecated and will be removed in a future version. Use numpy.ptp instead.\n",
      "  return ptp(axis=axis, out=out, **kwargs)\n"
     ]
    },
    {
     "name": "stdout",
     "output_type": "stream",
     "text": [
      "Progress 32%"
     ]
    },
    {
     "name": "stderr",
     "output_type": "stream",
     "text": [
      "/Users/semvijverberg/miniconda3/envs/df_ana/lib/python3.7/site-packages/numpy/core/fromnumeric.py:2495: FutureWarning: Method .ptp is deprecated and will be removed in a future version. Use numpy.ptp instead.\n",
      "  return ptp(axis=axis, out=out, **kwargs)\n",
      "/Users/semvijverberg/miniconda3/envs/df_ana/lib/python3.7/site-packages/numpy/core/fromnumeric.py:2495: FutureWarning: Method .ptp is deprecated and will be removed in a future version. Use numpy.ptp instead.\n",
      "  return ptp(axis=axis, out=out, **kwargs)\n"
     ]
    },
    {
     "name": "stdout",
     "output_type": "stream",
     "text": [
      "Progress 34%"
     ]
    },
    {
     "name": "stderr",
     "output_type": "stream",
     "text": [
      "/Users/semvijverberg/miniconda3/envs/df_ana/lib/python3.7/site-packages/numpy/core/fromnumeric.py:2495: FutureWarning: Method .ptp is deprecated and will be removed in a future version. Use numpy.ptp instead.\n",
      "  return ptp(axis=axis, out=out, **kwargs)\n",
      "/Users/semvijverberg/miniconda3/envs/df_ana/lib/python3.7/site-packages/numpy/core/fromnumeric.py:2495: FutureWarning: Method .ptp is deprecated and will be removed in a future version. Use numpy.ptp instead.\n",
      "  return ptp(axis=axis, out=out, **kwargs)\n"
     ]
    },
    {
     "name": "stdout",
     "output_type": "stream",
     "text": [
      "Progress 36%"
     ]
    },
    {
     "name": "stderr",
     "output_type": "stream",
     "text": [
      "/Users/semvijverberg/miniconda3/envs/df_ana/lib/python3.7/site-packages/numpy/core/fromnumeric.py:2495: FutureWarning: Method .ptp is deprecated and will be removed in a future version. Use numpy.ptp instead.\n",
      "  return ptp(axis=axis, out=out, **kwargs)\n",
      "/Users/semvijverberg/miniconda3/envs/df_ana/lib/python3.7/site-packages/numpy/core/fromnumeric.py:2495: FutureWarning: Method .ptp is deprecated and will be removed in a future version. Use numpy.ptp instead.\n",
      "  return ptp(axis=axis, out=out, **kwargs)\n"
     ]
    },
    {
     "name": "stdout",
     "output_type": "stream",
     "text": [
      "Progress 38%"
     ]
    },
    {
     "name": "stderr",
     "output_type": "stream",
     "text": [
      "/Users/semvijverberg/miniconda3/envs/df_ana/lib/python3.7/site-packages/numpy/core/fromnumeric.py:2495: FutureWarning: Method .ptp is deprecated and will be removed in a future version. Use numpy.ptp instead.\n",
      "  return ptp(axis=axis, out=out, **kwargs)\n",
      "/Users/semvijverberg/miniconda3/envs/df_ana/lib/python3.7/site-packages/numpy/core/fromnumeric.py:2495: FutureWarning: Method .ptp is deprecated and will be removed in a future version. Use numpy.ptp instead.\n",
      "  return ptp(axis=axis, out=out, **kwargs)\n"
     ]
    },
    {
     "name": "stdout",
     "output_type": "stream",
     "text": [
      "Progress 40%"
     ]
    },
    {
     "name": "stderr",
     "output_type": "stream",
     "text": [
      "/Users/semvijverberg/miniconda3/envs/df_ana/lib/python3.7/site-packages/numpy/core/fromnumeric.py:2495: FutureWarning: Method .ptp is deprecated and will be removed in a future version. Use numpy.ptp instead.\n",
      "  return ptp(axis=axis, out=out, **kwargs)\n",
      "/Users/semvijverberg/miniconda3/envs/df_ana/lib/python3.7/site-packages/numpy/core/fromnumeric.py:2495: FutureWarning: Method .ptp is deprecated and will be removed in a future version. Use numpy.ptp instead.\n",
      "  return ptp(axis=axis, out=out, **kwargs)\n"
     ]
    },
    {
     "name": "stdout",
     "output_type": "stream",
     "text": [
      "Progress 42%"
     ]
    },
    {
     "name": "stderr",
     "output_type": "stream",
     "text": [
      "/Users/semvijverberg/miniconda3/envs/df_ana/lib/python3.7/site-packages/numpy/core/fromnumeric.py:2495: FutureWarning: Method .ptp is deprecated and will be removed in a future version. Use numpy.ptp instead.\n",
      "  return ptp(axis=axis, out=out, **kwargs)\n",
      "/Users/semvijverberg/miniconda3/envs/df_ana/lib/python3.7/site-packages/numpy/core/fromnumeric.py:2495: FutureWarning: Method .ptp is deprecated and will be removed in a future version. Use numpy.ptp instead.\n",
      "  return ptp(axis=axis, out=out, **kwargs)\n"
     ]
    },
    {
     "name": "stdout",
     "output_type": "stream",
     "text": [
      "Progress 44%"
     ]
    },
    {
     "name": "stderr",
     "output_type": "stream",
     "text": [
      "/Users/semvijverberg/miniconda3/envs/df_ana/lib/python3.7/site-packages/numpy/core/fromnumeric.py:2495: FutureWarning: Method .ptp is deprecated and will be removed in a future version. Use numpy.ptp instead.\n",
      "  return ptp(axis=axis, out=out, **kwargs)\n",
      "/Users/semvijverberg/miniconda3/envs/df_ana/lib/python3.7/site-packages/numpy/core/fromnumeric.py:2495: FutureWarning: Method .ptp is deprecated and will be removed in a future version. Use numpy.ptp instead.\n",
      "  return ptp(axis=axis, out=out, **kwargs)\n"
     ]
    },
    {
     "name": "stdout",
     "output_type": "stream",
     "text": [
      "Progress 46%"
     ]
    },
    {
     "name": "stderr",
     "output_type": "stream",
     "text": [
      "/Users/semvijverberg/miniconda3/envs/df_ana/lib/python3.7/site-packages/numpy/core/fromnumeric.py:2495: FutureWarning: Method .ptp is deprecated and will be removed in a future version. Use numpy.ptp instead.\n",
      "  return ptp(axis=axis, out=out, **kwargs)\n",
      "/Users/semvijverberg/miniconda3/envs/df_ana/lib/python3.7/site-packages/numpy/core/fromnumeric.py:2495: FutureWarning: Method .ptp is deprecated and will be removed in a future version. Use numpy.ptp instead.\n",
      "  return ptp(axis=axis, out=out, **kwargs)\n"
     ]
    },
    {
     "name": "stdout",
     "output_type": "stream",
     "text": [
      "Progress 48%"
     ]
    },
    {
     "name": "stderr",
     "output_type": "stream",
     "text": [
      "/Users/semvijverberg/miniconda3/envs/df_ana/lib/python3.7/site-packages/numpy/core/fromnumeric.py:2495: FutureWarning: Method .ptp is deprecated and will be removed in a future version. Use numpy.ptp instead.\n",
      "  return ptp(axis=axis, out=out, **kwargs)\n",
      "/Users/semvijverberg/miniconda3/envs/df_ana/lib/python3.7/site-packages/numpy/core/fromnumeric.py:2495: FutureWarning: Method .ptp is deprecated and will be removed in a future version. Use numpy.ptp instead.\n",
      "  return ptp(axis=axis, out=out, **kwargs)\n"
     ]
    },
    {
     "name": "stdout",
     "output_type": "stream",
     "text": [
      "Progress 50%"
     ]
    },
    {
     "name": "stderr",
     "output_type": "stream",
     "text": [
      "/Users/semvijverberg/miniconda3/envs/df_ana/lib/python3.7/site-packages/numpy/core/fromnumeric.py:2495: FutureWarning: Method .ptp is deprecated and will be removed in a future version. Use numpy.ptp instead.\n",
      "  return ptp(axis=axis, out=out, **kwargs)\n",
      "/Users/semvijverberg/miniconda3/envs/df_ana/lib/python3.7/site-packages/numpy/core/fromnumeric.py:2495: FutureWarning: Method .ptp is deprecated and will be removed in a future version. Use numpy.ptp instead.\n",
      "  return ptp(axis=axis, out=out, **kwargs)\n"
     ]
    },
    {
     "name": "stdout",
     "output_type": "stream",
     "text": [
      "Progress 52%"
     ]
    },
    {
     "name": "stderr",
     "output_type": "stream",
     "text": [
      "/Users/semvijverberg/miniconda3/envs/df_ana/lib/python3.7/site-packages/numpy/core/fromnumeric.py:2495: FutureWarning: Method .ptp is deprecated and will be removed in a future version. Use numpy.ptp instead.\n",
      "  return ptp(axis=axis, out=out, **kwargs)\n",
      "/Users/semvijverberg/miniconda3/envs/df_ana/lib/python3.7/site-packages/numpy/core/fromnumeric.py:2495: FutureWarning: Method .ptp is deprecated and will be removed in a future version. Use numpy.ptp instead.\n",
      "  return ptp(axis=axis, out=out, **kwargs)\n"
     ]
    },
    {
     "name": "stdout",
     "output_type": "stream",
     "text": [
      "Progress 54%"
     ]
    },
    {
     "name": "stderr",
     "output_type": "stream",
     "text": [
      "/Users/semvijverberg/miniconda3/envs/df_ana/lib/python3.7/site-packages/numpy/core/fromnumeric.py:2495: FutureWarning: Method .ptp is deprecated and will be removed in a future version. Use numpy.ptp instead.\n",
      "  return ptp(axis=axis, out=out, **kwargs)\n",
      "/Users/semvijverberg/miniconda3/envs/df_ana/lib/python3.7/site-packages/numpy/core/fromnumeric.py:2495: FutureWarning: Method .ptp is deprecated and will be removed in a future version. Use numpy.ptp instead.\n",
      "  return ptp(axis=axis, out=out, **kwargs)\n"
     ]
    },
    {
     "name": "stdout",
     "output_type": "stream",
     "text": [
      "Progress 56%"
     ]
    },
    {
     "name": "stderr",
     "output_type": "stream",
     "text": [
      "/Users/semvijverberg/miniconda3/envs/df_ana/lib/python3.7/site-packages/numpy/core/fromnumeric.py:2495: FutureWarning: Method .ptp is deprecated and will be removed in a future version. Use numpy.ptp instead.\n",
      "  return ptp(axis=axis, out=out, **kwargs)\n",
      "/Users/semvijverberg/miniconda3/envs/df_ana/lib/python3.7/site-packages/numpy/core/fromnumeric.py:2495: FutureWarning: Method .ptp is deprecated and will be removed in a future version. Use numpy.ptp instead.\n",
      "  return ptp(axis=axis, out=out, **kwargs)\n"
     ]
    },
    {
     "name": "stdout",
     "output_type": "stream",
     "text": [
      "Progress 58%"
     ]
    },
    {
     "name": "stderr",
     "output_type": "stream",
     "text": [
      "/Users/semvijverberg/miniconda3/envs/df_ana/lib/python3.7/site-packages/numpy/core/fromnumeric.py:2495: FutureWarning: Method .ptp is deprecated and will be removed in a future version. Use numpy.ptp instead.\n",
      "  return ptp(axis=axis, out=out, **kwargs)\n",
      "/Users/semvijverberg/miniconda3/envs/df_ana/lib/python3.7/site-packages/numpy/core/fromnumeric.py:2495: FutureWarning: Method .ptp is deprecated and will be removed in a future version. Use numpy.ptp instead.\n",
      "  return ptp(axis=axis, out=out, **kwargs)\n"
     ]
    },
    {
     "name": "stdout",
     "output_type": "stream",
     "text": [
      "Progress 60%"
     ]
    },
    {
     "name": "stderr",
     "output_type": "stream",
     "text": [
      "/Users/semvijverberg/miniconda3/envs/df_ana/lib/python3.7/site-packages/numpy/core/fromnumeric.py:2495: FutureWarning: Method .ptp is deprecated and will be removed in a future version. Use numpy.ptp instead.\n",
      "  return ptp(axis=axis, out=out, **kwargs)\n",
      "/Users/semvijverberg/miniconda3/envs/df_ana/lib/python3.7/site-packages/numpy/core/fromnumeric.py:2495: FutureWarning: Method .ptp is deprecated and will be removed in a future version. Use numpy.ptp instead.\n",
      "  return ptp(axis=axis, out=out, **kwargs)\n"
     ]
    },
    {
     "name": "stdout",
     "output_type": "stream",
     "text": [
      "Progress 62%"
     ]
    },
    {
     "name": "stderr",
     "output_type": "stream",
     "text": [
      "/Users/semvijverberg/miniconda3/envs/df_ana/lib/python3.7/site-packages/numpy/core/fromnumeric.py:2495: FutureWarning: Method .ptp is deprecated and will be removed in a future version. Use numpy.ptp instead.\n",
      "  return ptp(axis=axis, out=out, **kwargs)\n",
      "/Users/semvijverberg/miniconda3/envs/df_ana/lib/python3.7/site-packages/numpy/core/fromnumeric.py:2495: FutureWarning: Method .ptp is deprecated and will be removed in a future version. Use numpy.ptp instead.\n",
      "  return ptp(axis=axis, out=out, **kwargs)\n"
     ]
    },
    {
     "name": "stdout",
     "output_type": "stream",
     "text": [
      "Progress 64%"
     ]
    },
    {
     "name": "stderr",
     "output_type": "stream",
     "text": [
      "/Users/semvijverberg/miniconda3/envs/df_ana/lib/python3.7/site-packages/numpy/core/fromnumeric.py:2495: FutureWarning: Method .ptp is deprecated and will be removed in a future version. Use numpy.ptp instead.\n",
      "  return ptp(axis=axis, out=out, **kwargs)\n",
      "/Users/semvijverberg/miniconda3/envs/df_ana/lib/python3.7/site-packages/numpy/core/fromnumeric.py:2495: FutureWarning: Method .ptp is deprecated and will be removed in a future version. Use numpy.ptp instead.\n",
      "  return ptp(axis=axis, out=out, **kwargs)\n"
     ]
    },
    {
     "name": "stdout",
     "output_type": "stream",
     "text": [
      "Progress 66%"
     ]
    },
    {
     "name": "stderr",
     "output_type": "stream",
     "text": [
      "/Users/semvijverberg/miniconda3/envs/df_ana/lib/python3.7/site-packages/numpy/core/fromnumeric.py:2495: FutureWarning: Method .ptp is deprecated and will be removed in a future version. Use numpy.ptp instead.\n",
      "  return ptp(axis=axis, out=out, **kwargs)\n",
      "/Users/semvijverberg/miniconda3/envs/df_ana/lib/python3.7/site-packages/numpy/core/fromnumeric.py:2495: FutureWarning: Method .ptp is deprecated and will be removed in a future version. Use numpy.ptp instead.\n",
      "  return ptp(axis=axis, out=out, **kwargs)\n"
     ]
    },
    {
     "name": "stdout",
     "output_type": "stream",
     "text": [
      "Progress 68%"
     ]
    },
    {
     "name": "stderr",
     "output_type": "stream",
     "text": [
      "/Users/semvijverberg/miniconda3/envs/df_ana/lib/python3.7/site-packages/numpy/core/fromnumeric.py:2495: FutureWarning: Method .ptp is deprecated and will be removed in a future version. Use numpy.ptp instead.\n",
      "  return ptp(axis=axis, out=out, **kwargs)\n",
      "/Users/semvijverberg/miniconda3/envs/df_ana/lib/python3.7/site-packages/numpy/core/fromnumeric.py:2495: FutureWarning: Method .ptp is deprecated and will be removed in a future version. Use numpy.ptp instead.\n",
      "  return ptp(axis=axis, out=out, **kwargs)\n"
     ]
    },
    {
     "name": "stdout",
     "output_type": "stream",
     "text": [
      "Progress 70%"
     ]
    },
    {
     "name": "stderr",
     "output_type": "stream",
     "text": [
      "/Users/semvijverberg/miniconda3/envs/df_ana/lib/python3.7/site-packages/numpy/core/fromnumeric.py:2495: FutureWarning: Method .ptp is deprecated and will be removed in a future version. Use numpy.ptp instead.\n",
      "  return ptp(axis=axis, out=out, **kwargs)\n",
      "/Users/semvijverberg/miniconda3/envs/df_ana/lib/python3.7/site-packages/numpy/core/fromnumeric.py:2495: FutureWarning: Method .ptp is deprecated and will be removed in a future version. Use numpy.ptp instead.\n",
      "  return ptp(axis=axis, out=out, **kwargs)\n"
     ]
    },
    {
     "name": "stdout",
     "output_type": "stream",
     "text": [
      "Progress 72%"
     ]
    },
    {
     "name": "stderr",
     "output_type": "stream",
     "text": [
      "/Users/semvijverberg/miniconda3/envs/df_ana/lib/python3.7/site-packages/numpy/core/fromnumeric.py:2495: FutureWarning: Method .ptp is deprecated and will be removed in a future version. Use numpy.ptp instead.\n",
      "  return ptp(axis=axis, out=out, **kwargs)\n",
      "/Users/semvijverberg/miniconda3/envs/df_ana/lib/python3.7/site-packages/numpy/core/fromnumeric.py:2495: FutureWarning: Method .ptp is deprecated and will be removed in a future version. Use numpy.ptp instead.\n",
      "  return ptp(axis=axis, out=out, **kwargs)\n"
     ]
    },
    {
     "name": "stdout",
     "output_type": "stream",
     "text": [
      "Progress 74%"
     ]
    },
    {
     "name": "stderr",
     "output_type": "stream",
     "text": [
      "/Users/semvijverberg/miniconda3/envs/df_ana/lib/python3.7/site-packages/numpy/core/fromnumeric.py:2495: FutureWarning: Method .ptp is deprecated and will be removed in a future version. Use numpy.ptp instead.\n",
      "  return ptp(axis=axis, out=out, **kwargs)\n",
      "/Users/semvijverberg/miniconda3/envs/df_ana/lib/python3.7/site-packages/numpy/core/fromnumeric.py:2495: FutureWarning: Method .ptp is deprecated and will be removed in a future version. Use numpy.ptp instead.\n",
      "  return ptp(axis=axis, out=out, **kwargs)\n"
     ]
    },
    {
     "name": "stdout",
     "output_type": "stream",
     "text": [
      "Progress 76%"
     ]
    },
    {
     "name": "stderr",
     "output_type": "stream",
     "text": [
      "/Users/semvijverberg/miniconda3/envs/df_ana/lib/python3.7/site-packages/numpy/core/fromnumeric.py:2495: FutureWarning: Method .ptp is deprecated and will be removed in a future version. Use numpy.ptp instead.\n",
      "  return ptp(axis=axis, out=out, **kwargs)\n",
      "/Users/semvijverberg/miniconda3/envs/df_ana/lib/python3.7/site-packages/numpy/core/fromnumeric.py:2495: FutureWarning: Method .ptp is deprecated and will be removed in a future version. Use numpy.ptp instead.\n",
      "  return ptp(axis=axis, out=out, **kwargs)\n"
     ]
    },
    {
     "name": "stdout",
     "output_type": "stream",
     "text": [
      "Progress 78%"
     ]
    },
    {
     "name": "stderr",
     "output_type": "stream",
     "text": [
      "/Users/semvijverberg/miniconda3/envs/df_ana/lib/python3.7/site-packages/numpy/core/fromnumeric.py:2495: FutureWarning: Method .ptp is deprecated and will be removed in a future version. Use numpy.ptp instead.\n",
      "  return ptp(axis=axis, out=out, **kwargs)\n",
      "/Users/semvijverberg/miniconda3/envs/df_ana/lib/python3.7/site-packages/numpy/core/fromnumeric.py:2495: FutureWarning: Method .ptp is deprecated and will be removed in a future version. Use numpy.ptp instead.\n",
      "  return ptp(axis=axis, out=out, **kwargs)\n"
     ]
    },
    {
     "name": "stdout",
     "output_type": "stream",
     "text": [
      "Progress 80%"
     ]
    },
    {
     "name": "stderr",
     "output_type": "stream",
     "text": [
      "/Users/semvijverberg/miniconda3/envs/df_ana/lib/python3.7/site-packages/numpy/core/fromnumeric.py:2495: FutureWarning: Method .ptp is deprecated and will be removed in a future version. Use numpy.ptp instead.\n",
      "  return ptp(axis=axis, out=out, **kwargs)\n",
      "/Users/semvijverberg/miniconda3/envs/df_ana/lib/python3.7/site-packages/numpy/core/fromnumeric.py:2495: FutureWarning: Method .ptp is deprecated and will be removed in a future version. Use numpy.ptp instead.\n",
      "  return ptp(axis=axis, out=out, **kwargs)\n"
     ]
    },
    {
     "name": "stdout",
     "output_type": "stream",
     "text": [
      "Progress 82%"
     ]
    },
    {
     "name": "stderr",
     "output_type": "stream",
     "text": [
      "/Users/semvijverberg/miniconda3/envs/df_ana/lib/python3.7/site-packages/numpy/core/fromnumeric.py:2495: FutureWarning: Method .ptp is deprecated and will be removed in a future version. Use numpy.ptp instead.\n",
      "  return ptp(axis=axis, out=out, **kwargs)\n",
      "/Users/semvijverberg/miniconda3/envs/df_ana/lib/python3.7/site-packages/numpy/core/fromnumeric.py:2495: FutureWarning: Method .ptp is deprecated and will be removed in a future version. Use numpy.ptp instead.\n",
      "  return ptp(axis=axis, out=out, **kwargs)\n"
     ]
    },
    {
     "name": "stdout",
     "output_type": "stream",
     "text": [
      "Progress 84%"
     ]
    },
    {
     "name": "stderr",
     "output_type": "stream",
     "text": [
      "/Users/semvijverberg/miniconda3/envs/df_ana/lib/python3.7/site-packages/numpy/core/fromnumeric.py:2495: FutureWarning: Method .ptp is deprecated and will be removed in a future version. Use numpy.ptp instead.\n",
      "  return ptp(axis=axis, out=out, **kwargs)\n",
      "/Users/semvijverberg/miniconda3/envs/df_ana/lib/python3.7/site-packages/numpy/core/fromnumeric.py:2495: FutureWarning: Method .ptp is deprecated and will be removed in a future version. Use numpy.ptp instead.\n",
      "  return ptp(axis=axis, out=out, **kwargs)\n"
     ]
    },
    {
     "name": "stdout",
     "output_type": "stream",
     "text": [
      "Progress 86%"
     ]
    },
    {
     "name": "stderr",
     "output_type": "stream",
     "text": [
      "/Users/semvijverberg/miniconda3/envs/df_ana/lib/python3.7/site-packages/numpy/core/fromnumeric.py:2495: FutureWarning: Method .ptp is deprecated and will be removed in a future version. Use numpy.ptp instead.\n",
      "  return ptp(axis=axis, out=out, **kwargs)\n"
     ]
    },
    {
     "name": "stdout",
     "output_type": "stream",
     "text": [
      "Progress 88%"
     ]
    },
    {
     "name": "stderr",
     "output_type": "stream",
     "text": [
      "/Users/semvijverberg/miniconda3/envs/df_ana/lib/python3.7/site-packages/numpy/core/fromnumeric.py:2495: FutureWarning: Method .ptp is deprecated and will be removed in a future version. Use numpy.ptp instead.\n",
      "  return ptp(axis=axis, out=out, **kwargs)\n",
      "/Users/semvijverberg/miniconda3/envs/df_ana/lib/python3.7/site-packages/numpy/core/fromnumeric.py:2495: FutureWarning: Method .ptp is deprecated and will be removed in a future version. Use numpy.ptp instead.\n",
      "  return ptp(axis=axis, out=out, **kwargs)\n",
      "/Users/semvijverberg/miniconda3/envs/df_ana/lib/python3.7/site-packages/numpy/core/fromnumeric.py:2495: FutureWarning: Method .ptp is deprecated and will be removed in a future version. Use numpy.ptp instead.\n",
      "  return ptp(axis=axis, out=out, **kwargs)\n"
     ]
    },
    {
     "name": "stdout",
     "output_type": "stream",
     "text": [
      "Progress 90%"
     ]
    },
    {
     "name": "stderr",
     "output_type": "stream",
     "text": [
      "/Users/semvijverberg/miniconda3/envs/df_ana/lib/python3.7/site-packages/numpy/core/fromnumeric.py:2495: FutureWarning: Method .ptp is deprecated and will be removed in a future version. Use numpy.ptp instead.\n",
      "  return ptp(axis=axis, out=out, **kwargs)\n",
      "/Users/semvijverberg/miniconda3/envs/df_ana/lib/python3.7/site-packages/numpy/core/fromnumeric.py:2495: FutureWarning: Method .ptp is deprecated and will be removed in a future version. Use numpy.ptp instead.\n",
      "  return ptp(axis=axis, out=out, **kwargs)\n"
     ]
    },
    {
     "name": "stdout",
     "output_type": "stream",
     "text": [
      "Progress 92%"
     ]
    },
    {
     "name": "stderr",
     "output_type": "stream",
     "text": [
      "/Users/semvijverberg/miniconda3/envs/df_ana/lib/python3.7/site-packages/numpy/core/fromnumeric.py:2495: FutureWarning: Method .ptp is deprecated and will be removed in a future version. Use numpy.ptp instead.\n",
      "  return ptp(axis=axis, out=out, **kwargs)\n",
      "/Users/semvijverberg/miniconda3/envs/df_ana/lib/python3.7/site-packages/numpy/core/fromnumeric.py:2495: FutureWarning: Method .ptp is deprecated and will be removed in a future version. Use numpy.ptp instead.\n",
      "  return ptp(axis=axis, out=out, **kwargs)\n"
     ]
    },
    {
     "name": "stdout",
     "output_type": "stream",
     "text": [
      "Progress 94%"
     ]
    },
    {
     "name": "stderr",
     "output_type": "stream",
     "text": [
      "/Users/semvijverberg/miniconda3/envs/df_ana/lib/python3.7/site-packages/numpy/core/fromnumeric.py:2495: FutureWarning: Method .ptp is deprecated and will be removed in a future version. Use numpy.ptp instead.\n",
      "  return ptp(axis=axis, out=out, **kwargs)\n",
      "/Users/semvijverberg/miniconda3/envs/df_ana/lib/python3.7/site-packages/numpy/core/fromnumeric.py:2495: FutureWarning: Method .ptp is deprecated and will be removed in a future version. Use numpy.ptp instead.\n",
      "  return ptp(axis=axis, out=out, **kwargs)\n"
     ]
    },
    {
     "name": "stdout",
     "output_type": "stream",
     "text": [
      "Progress 96%"
     ]
    },
    {
     "name": "stderr",
     "output_type": "stream",
     "text": [
      "/Users/semvijverberg/miniconda3/envs/df_ana/lib/python3.7/site-packages/numpy/core/fromnumeric.py:2495: FutureWarning: Method .ptp is deprecated and will be removed in a future version. Use numpy.ptp instead.\n",
      "  return ptp(axis=axis, out=out, **kwargs)\n",
      "/Users/semvijverberg/miniconda3/envs/df_ana/lib/python3.7/site-packages/numpy/core/fromnumeric.py:2495: FutureWarning: Method .ptp is deprecated and will be removed in a future version. Use numpy.ptp instead.\n",
      "  return ptp(axis=axis, out=out, **kwargs)\n"
     ]
    },
    {
     "name": "stdout",
     "output_type": "stream",
     "text": [
      "Progress 98%"
     ]
    },
    {
     "name": "stderr",
     "output_type": "stream",
     "text": [
      "/Users/semvijverberg/miniconda3/envs/df_ana/lib/python3.7/site-packages/numpy/core/fromnumeric.py:2495: FutureWarning: Method .ptp is deprecated and will be removed in a future version. Use numpy.ptp instead.\n",
      "  return ptp(axis=axis, out=out, **kwargs)\n",
      "/Users/semvijverberg/miniconda3/envs/df_ana/lib/python3.7/site-packages/numpy/core/fromnumeric.py:2495: FutureWarning: Method .ptp is deprecated and will be removed in a future version. Use numpy.ptp instead.\n",
      "  return ptp(axis=axis, out=out, **kwargs)\n"
     ]
    },
    {
     "name": "stdout",
     "output_type": "stream",
     "text": [
      "Progress 100%\n",
      "\n",
      "('GBR-logitCV', {'max_depth': 3, 'learning_rate': 0.001, 'n_estimators': 750, 'max_features': 'sqrt', 'subsample': 0.6, 'random_state': 60}) \n"
     ]
    },
    {
     "name": "stderr",
     "output_type": "stream",
     "text": [
      "/Users/semvijverberg/miniconda3/envs/df_ana/lib/python3.7/site-packages/numpy/core/fromnumeric.py:2495: FutureWarning: Method .ptp is deprecated and will be removed in a future version. Use numpy.ptp instead.\n",
      "  return ptp(axis=axis, out=out, **kwargs)\n"
     ]
    }
   ],
   "source": [
    "fc.fit_models(stat_model_l=[GBR_logitCV], lead_max=35, \n",
    "                   keys_d='sst(CPPA)+sm', causal=False)"
   ]
  },
  {
   "cell_type": "code",
   "execution_count": 16,
   "metadata": {},
   "outputs": [
    {
     "name": "stdout",
     "output_type": "stream",
     "text": [
      "ROC area\t: 0.910\n",
      "P-R area\t: 0.848\n",
      "BSS     \t: 0.534\n",
      "Precision       : 0.835\n",
      "Accuracy        : 0.850\n"
     ]
    }
   ],
   "source": [
    "dict_experiments = {}       \n",
    "fc.perform_validation(n_boot=100, blocksize='auto', \n",
    "                              threshold_pred=(2, 'times_clim'))\n",
    "dict_experiments['test'] = fc.dict_sum"
   ]
  },
  {
   "cell_type": "code",
   "execution_count": 17,
   "metadata": {},
   "outputs": [
    {
     "name": "stdout",
     "output_type": "stream",
     "text": [
      "0 GBR-logitCV\n"
     ]
    },
    {
     "data": {
      "image/png": "[encoded data removed]",
      "text/plain": [
       "<Figure size 1260x600 with 6 Axes>"
      ]
     },
     "metadata": {
      "needs_background": "light"
     },
     "output_type": "display_data"
    }
   ],
   "source": [
    "import valid_plots as dfplots\n",
    "kwrgs = {'wspace':0.25, 'col_wrap':3, 'threshold_bin':fc.threshold_pred}\n",
    "met = ['AUC-ROC', 'AUC-PR', 'BSS', 'Rel. Curve', 'Precision', 'Accuracy']\n",
    "expers = list(dict_experiments.keys())\n",
    "models   = list(dict_experiments[expers[0]].keys())\n",
    "line_dim = 'model'\n",
    "\n",
    "\n",
    "fig = dfplots.valid_figures(dict_experiments, expers=expers, models=models,\n",
    "                          line_dim=line_dim, \n",
    "                          group_line_by=None,  \n",
    "                          met=met, **kwrgs)"
   ]
  },
  {
   "cell_type": "code",
   "execution_count": 11,
   "metadata": {},
   "outputs": [
    {
     "data": {
      "text/plain": [
       "'clim'"
      ]
     },
     "execution_count": 11,
     "metadata": {},
     "output_type": "execute_result"
    }
   ],
   "source": []
  },
  {
   "cell_type": "code",
   "execution_count": null,
   "metadata": {},
   "outputs": [],
   "source": []
  },
  {
   "cell_type": "code",
   "execution_count": null,
   "metadata": {},
   "outputs": [],
   "source": []
  },
  {
   "cell_type": "code",
   "execution_count": null,
   "metadata": {},
   "outputs": [],
   "source": []
  },
  {
   "cell_type": "code",
   "execution_count": null,
   "metadata": {},
   "outputs": [],
   "source": []
  },
  {
   "cell_type": "code",
   "execution_count": null,
   "metadata": {},
   "outputs": [],
   "source": []
  },
  {
   "cell_type": "code",
   "execution_count": null,
   "metadata": {},
   "outputs": [],
   "source": []
  },
  {
   "cell_type": "code",
   "execution_count": null,
   "metadata": {},
   "outputs": [],
   "source": []
  },
  {
   "cell_type": "code",
   "execution_count": null,
   "metadata": {},
   "outputs": [],
   "source": []
  },
  {
   "cell_type": "code",
   "execution_count": null,
   "metadata": {},
   "outputs": [],
   "source": []
  }
 ],
 "metadata": {
  "kernelspec": {
   "display_name": "Python 3",
   "language": "python",
   "name": "python3"
  },
  "language_info": {
   "codemirror_mode": {
    "name": "ipython",
    "version": 3
   },
   "file_extension": ".py",
   "mimetype": "text/x-python",
   "name": "python",
   "nbconvert_exporter": "python",
   "pygments_lexer": "ipython3",
   "version": "3.7.3"
  }
 },
 "nbformat": 4,
 "nbformat_minor": 4
}
